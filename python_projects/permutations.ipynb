{
 "cells": [
  {
   "cell_type": "code",
   "execution_count": null,
   "source": [
    "import itertools\r\n",
    "list(itertools.permutations([1, 2, 3]))"
   ],
   "outputs": [],
   "metadata": {}
  }
 ],
 "metadata": {
  "orig_nbformat": 4,
  "language_info": {
   "name": "python",
   "version": "3.9.7"
  },
  "kernelspec": {
   "name": "python3",
   "display_name": "Python 3.9.7 64-bit (windows store)"
  },
  "interpreter": {
   "hash": "268ef592ca12fc1c2bffff621c6f69b2d3cbaf29b6122947478221211c9fca52"
  }
 },
 "nbformat": 4,
 "nbformat_minor": 2
}