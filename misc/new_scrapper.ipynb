{
 "cells": [
  {
   "cell_type": "code",
   "execution_count": 37,
   "source": [
    "#Import libraries (Don't change)\r\n",
    "from GoogleImageScrapper import GoogleImageScraper\r\n",
    "import os\r\n",
    "\r\n",
    "#Define file path (Don't change)\r\n",
    "webdriver_path = os.path.normpath(\"C:/Users/alexa/Documents/GitHub/anic0077.github.io/misc/chromedriver\")\r\n",
    "image_path = os.path.normpath(os.getcwd()+\"./images/classify\")\r\n",
    "\r\n",
    "#Add new search key into array [\"cat\",\"t-shirt\",\"apple\",\"orange\",\"pear\",\"fish\"]\r\n",
    "search_keys= [\"pants jpg\",\"shirt jpg\",\"hat jpg\",\"shoes jpg\"]\r\n",
    "\r\n",
    "#Parameters\r\n",
    "number_of_images = 600\r\n",
    "headless = True\r\n",
    "min_resolution=(0,0)\r\n",
    "max_resolution=(1920,1080)\r\n",
    "\r\n",
    "#Main program\r\n",
    "for search_key in search_keys:\r\n",
    "    image_path = os.path.normpath(os.getcwd()+\"./images/classify/\"+search_key)\r\n",
    "    image_scrapper = GoogleImageScraper(webdriver_path,image_path,search_key,number_of_images,headless,min_resolution,max_resolution)\r\n",
    "    image_urls = image_scrapper.find_image_urls()\r\n",
    "    image_scrapper.save_images(image_urls)\r\n"
   ],
   "outputs": [
    {
     "output_type": "stream",
     "name": "stdout",
     "text": [
      "[INFO] Scraping for image link... Please wait.\n"
     ]
    },
    {
     "output_type": "error",
     "ename": "KeyboardInterrupt",
     "evalue": "",
     "traceback": [
      "\u001b[1;31m---------------------------------------------------------------------------\u001b[0m",
      "\u001b[1;31mKeyboardInterrupt\u001b[0m                         Traceback (most recent call last)",
      "\u001b[1;32m~\\AppData\\Local\\Temp/ipykernel_4388/3367108332.py\u001b[0m in \u001b[0;36m<module>\u001b[1;34m\u001b[0m\n\u001b[0;32m     20\u001b[0m     \u001b[0mimage_path\u001b[0m \u001b[1;33m=\u001b[0m \u001b[0mos\u001b[0m\u001b[1;33m.\u001b[0m\u001b[0mpath\u001b[0m\u001b[1;33m.\u001b[0m\u001b[0mnormpath\u001b[0m\u001b[1;33m(\u001b[0m\u001b[0mos\u001b[0m\u001b[1;33m.\u001b[0m\u001b[0mgetcwd\u001b[0m\u001b[1;33m(\u001b[0m\u001b[1;33m)\u001b[0m\u001b[1;33m+\u001b[0m\u001b[1;34m\"./images/classify/\"\u001b[0m\u001b[1;33m+\u001b[0m\u001b[0msearch_key\u001b[0m\u001b[1;33m)\u001b[0m\u001b[1;33m\u001b[0m\u001b[1;33m\u001b[0m\u001b[0m\n\u001b[0;32m     21\u001b[0m     \u001b[0mimage_scrapper\u001b[0m \u001b[1;33m=\u001b[0m \u001b[0mGoogleImageScraper\u001b[0m\u001b[1;33m(\u001b[0m\u001b[0mwebdriver_path\u001b[0m\u001b[1;33m,\u001b[0m\u001b[0mimage_path\u001b[0m\u001b[1;33m,\u001b[0m\u001b[0msearch_key\u001b[0m\u001b[1;33m,\u001b[0m\u001b[0mnumber_of_images\u001b[0m\u001b[1;33m,\u001b[0m\u001b[0mheadless\u001b[0m\u001b[1;33m,\u001b[0m\u001b[0mmin_resolution\u001b[0m\u001b[1;33m,\u001b[0m\u001b[0mmax_resolution\u001b[0m\u001b[1;33m)\u001b[0m\u001b[1;33m\u001b[0m\u001b[1;33m\u001b[0m\u001b[0m\n\u001b[1;32m---> 22\u001b[1;33m     \u001b[0mimage_urls\u001b[0m \u001b[1;33m=\u001b[0m \u001b[0mimage_scrapper\u001b[0m\u001b[1;33m.\u001b[0m\u001b[0mfind_image_urls\u001b[0m\u001b[1;33m(\u001b[0m\u001b[1;33m)\u001b[0m\u001b[1;33m\u001b[0m\u001b[1;33m\u001b[0m\u001b[0m\n\u001b[0m\u001b[0;32m     23\u001b[0m     \u001b[0mimage_scrapper\u001b[0m\u001b[1;33m.\u001b[0m\u001b[0msave_images\u001b[0m\u001b[1;33m(\u001b[0m\u001b[0mimage_urls\u001b[0m\u001b[1;33m)\u001b[0m\u001b[1;33m\u001b[0m\u001b[1;33m\u001b[0m\u001b[0m\n",
      "\u001b[1;32mc:\\Users\\alexa\\Documents\\GitHub\\anic0077.github.io\\misc\\GoogleImageScrapper.py\u001b[0m in \u001b[0;36mfind_image_urls\u001b[1;34m(self)\u001b[0m\n\u001b[0;32m     79\u001b[0m         \u001b[0mmissed_count\u001b[0m \u001b[1;33m=\u001b[0m \u001b[1;36m0\u001b[0m\u001b[1;33m\u001b[0m\u001b[1;33m\u001b[0m\u001b[0m\n\u001b[0;32m     80\u001b[0m         \u001b[0mself\u001b[0m\u001b[1;33m.\u001b[0m\u001b[0mdriver\u001b[0m\u001b[1;33m.\u001b[0m\u001b[0mget\u001b[0m\u001b[1;33m(\u001b[0m\u001b[0mself\u001b[0m\u001b[1;33m.\u001b[0m\u001b[0murl\u001b[0m\u001b[1;33m)\u001b[0m\u001b[1;33m\u001b[0m\u001b[1;33m\u001b[0m\u001b[0m\n\u001b[1;32m---> 81\u001b[1;33m         \u001b[0mtime\u001b[0m\u001b[1;33m.\u001b[0m\u001b[0msleep\u001b[0m\u001b[1;33m(\u001b[0m\u001b[1;36m0.5\u001b[0m\u001b[1;33m)\u001b[0m\u001b[1;33m\u001b[0m\u001b[1;33m\u001b[0m\u001b[0m\n\u001b[0m\u001b[0;32m     82\u001b[0m         \u001b[1;32mfor\u001b[0m \u001b[0mindx\u001b[0m \u001b[1;32min\u001b[0m \u001b[0mrange\u001b[0m \u001b[1;33m(\u001b[0m\u001b[1;36m1\u001b[0m\u001b[1;33m,\u001b[0m\u001b[0mself\u001b[0m\u001b[1;33m.\u001b[0m\u001b[0mnumber_of_images\u001b[0m\u001b[1;33m+\u001b[0m\u001b[1;36m1\u001b[0m\u001b[1;33m)\u001b[0m\u001b[1;33m:\u001b[0m\u001b[1;33m\u001b[0m\u001b[1;33m\u001b[0m\u001b[0m\n\u001b[0;32m     83\u001b[0m             \u001b[1;32mtry\u001b[0m\u001b[1;33m:\u001b[0m\u001b[1;33m\u001b[0m\u001b[1;33m\u001b[0m\u001b[0m\n",
      "\u001b[1;31mKeyboardInterrupt\u001b[0m: "
     ]
    }
   ],
   "metadata": {}
  }
 ],
 "metadata": {
  "orig_nbformat": 4,
  "language_info": {
   "name": "python",
   "version": "3.9.7",
   "mimetype": "text/x-python",
   "codemirror_mode": {
    "name": "ipython",
    "version": 3
   },
   "pygments_lexer": "ipython3",
   "nbconvert_exporter": "python",
   "file_extension": ".py"
  },
  "kernelspec": {
   "name": "python3",
   "display_name": "Python 3.9.7 64-bit (windows store)"
  },
  "interpreter": {
   "hash": "268ef592ca12fc1c2bffff621c6f69b2d3cbaf29b6122947478221211c9fca52"
  }
 },
 "nbformat": 4,
 "nbformat_minor": 2
}