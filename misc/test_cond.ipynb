{
 "cells": [
  {
   "cell_type": "code",
   "execution_count": 607,
   "source": [
    "import matplotlib.pyplot as plt\r\n",
    "import numpy as np\r\n",
    "import os\r\n",
    "import PIL\r\n",
    "import tensorflow as tf\r\n",
    "\r\n",
    "from tensorflow import keras\r\n",
    "from tensorflow.keras import layers\r\n",
    "from tensorflow.keras.models import Sequential"
   ],
   "outputs": [],
   "metadata": {}
  },
  {
   "cell_type": "code",
   "execution_count": 608,
   "source": [
    "#import pathlib\r\n",
    "#dataset_url = \"https://storage.googleapis.com/download.tensorflow.org/example_images/flower_photos.tgz\"\r\n",
    "#data_dir = tf.keras.utils.get_file('flower_photos', origin=dataset_url, untar=True)\r\n",
    "#data_dir = pathlib.Path(data_dir)\r\n",
    "data_dir = \"C:/Users/alexa/Documents/GitHub/anic0077.github.io/misc/images/classify\""
   ],
   "outputs": [],
   "metadata": {}
  },
  {
   "cell_type": "code",
   "execution_count": 609,
   "source": [
    "#parameters for the loader\r\n",
    "batch_size = 32\r\n",
    "img_height = 180\r\n",
    "img_width = 180"
   ],
   "outputs": [],
   "metadata": {}
  },
  {
   "cell_type": "code",
   "execution_count": 610,
   "source": [
    "train_ds = tf.keras.preprocessing.image_dataset_from_directory(\r\n",
    "  data_dir,\r\n",
    "  validation_split=0.2,\r\n",
    "  subset=\"training\",\r\n",
    "  seed=123,\r\n",
    "  image_size=(img_height, img_width),\r\n",
    "  batch_size=batch_size)"
   ],
   "outputs": [
    {
     "output_type": "stream",
     "name": "stdout",
     "text": [
      "Found 1745 files belonging to 4 classes.\n",
      "Using 1396 files for training.\n"
     ]
    }
   ],
   "metadata": {}
  },
  {
   "cell_type": "code",
   "execution_count": 611,
   "source": [
    "val_ds = tf.keras.preprocessing.image_dataset_from_directory(\r\n",
    "  data_dir,\r\n",
    "  validation_split=0.2,\r\n",
    "  subset=\"validation\",\r\n",
    "  seed=123,\r\n",
    "  image_size=(img_height, img_width),\r\n",
    "  batch_size=batch_size)"
   ],
   "outputs": [
    {
     "output_type": "stream",
     "name": "stdout",
     "text": [
      "Found 1745 files belonging to 4 classes.\n",
      "Using 349 files for validation.\n"
     ]
    }
   ],
   "metadata": {}
  },
  {
   "cell_type": "code",
   "execution_count": 612,
   "source": [
    "class_names = train_ds.class_names\r\n",
    "print(class_names)\r\n"
   ],
   "outputs": [
    {
     "output_type": "stream",
     "name": "stdout",
     "text": [
      "['half_shirts', 'hat jpg', 'pants jpg', 'shoes jpg']\n"
     ]
    }
   ],
   "metadata": {}
  },
  {
   "cell_type": "code",
   "execution_count": 613,
   "source": [
    "for image_batch, labels_batch in train_ds:\r\n",
    "  print(image_batch.shape)\r\n",
    "  print(labels_batch.shape)\r\n",
    "  break"
   ],
   "outputs": [
    {
     "output_type": "stream",
     "name": "stdout",
     "text": [
      "(32, 180, 180, 3)\n",
      "(32,)\n"
     ]
    }
   ],
   "metadata": {}
  },
  {
   "cell_type": "code",
   "execution_count": 614,
   "source": [
    "AUTOTUNE = tf.data.AUTOTUNE\r\n",
    "\r\n",
    "train_ds = train_ds.cache().shuffle(1000).prefetch(buffer_size=AUTOTUNE)\r\n",
    "val_ds = val_ds.cache().prefetch(buffer_size=AUTOTUNE)"
   ],
   "outputs": [],
   "metadata": {}
  },
  {
   "cell_type": "code",
   "execution_count": 615,
   "source": [
    "normalization_layer = layers.experimental.preprocessing.Rescaling(1./255)"
   ],
   "outputs": [],
   "metadata": {}
  },
  {
   "cell_type": "code",
   "execution_count": 617,
   "source": [
    "normalized_ds = train_ds.map(lambda x, y: (normalization_layer(x), y))\r\n",
    "image_batch, labels_batch = next(iter(normalized_ds))\r\n",
    "first_image = image_batch[0]\r\n",
    "# Notice the pixels values are now in `[0,1]`.\r\n",
    "print(np.min(first_image), np.max(first_image))"
   ],
   "outputs": [
    {
     "output_type": "stream",
     "name": "stdout",
     "text": [
      "0.017516088 0.99712425\n"
     ]
    }
   ],
   "metadata": {}
  },
  {
   "cell_type": "code",
   "execution_count": 618,
   "source": [
    "#augmenting to prevent overfitting\r\n",
    "data_augmentation = keras.Sequential(\r\n",
    "  [\r\n",
    "    layers.experimental.preprocessing.RandomFlip(\"horizontal\", \r\n",
    "                                                 input_shape=(img_height, \r\n",
    "                                                              img_width,\r\n",
    "                                                              3)),\r\n",
    "    layers.experimental.preprocessing.RandomRotation(0.1),\r\n",
    "    layers.experimental.preprocessing.RandomZoom(0.1),\r\n",
    "  ]\r\n",
    ")"
   ],
   "outputs": [],
   "metadata": {}
  },
  {
   "cell_type": "code",
   "execution_count": 619,
   "source": [
    "num_classes = len(class_names)\r\n",
    "\r\n",
    "model = Sequential([\r\n",
    "  data_augmentation,\r\n",
    "  layers.experimental.preprocessing.Rescaling(1./255),\r\n",
    "  layers.Conv2D(16, 3, padding='same', activation='relu'),\r\n",
    "  layers.MaxPooling2D(),\r\n",
    "  layers.Conv2D(32, 3, padding='same', activation='relu'),\r\n",
    "  layers.MaxPooling2D(),\r\n",
    "  layers.Conv2D(64, 3, padding='same', activation='relu'),\r\n",
    "  layers.MaxPooling2D(),\r\n",
    "  layers.Dropout(0.2),\r\n",
    "  layers.Flatten(),\r\n",
    "  layers.Dense(128, activation='relu'),\r\n",
    "  layers.Dense(num_classes)\r\n",
    "])"
   ],
   "outputs": [],
   "metadata": {}
  },
  {
   "cell_type": "code",
   "execution_count": 620,
   "source": [
    "model.compile(optimizer='adam',\r\n",
    "              loss=tf.keras.losses.SparseCategoricalCrossentropy(from_logits=True),\r\n",
    "              metrics=['accuracy'])"
   ],
   "outputs": [],
   "metadata": {}
  },
  {
   "cell_type": "code",
   "execution_count": 621,
   "source": [
    "model.summary()"
   ],
   "outputs": [
    {
     "output_type": "stream",
     "name": "stdout",
     "text": [
      "Model: \"sequential_21\"\n",
      "_________________________________________________________________\n",
      "Layer (type)                 Output Shape              Param #   \n",
      "=================================================================\n",
      "sequential_20 (Sequential)   (None, 180, 180, 3)       0         \n",
      "_________________________________________________________________\n",
      "rescaling_38 (Rescaling)     (None, 180, 180, 3)       0         \n",
      "_________________________________________________________________\n",
      "conv2d_30 (Conv2D)           (None, 180, 180, 16)      448       \n",
      "_________________________________________________________________\n",
      "max_pooling2d_30 (MaxPooling (None, 90, 90, 16)        0         \n",
      "_________________________________________________________________\n",
      "conv2d_31 (Conv2D)           (None, 90, 90, 32)        4640      \n",
      "_________________________________________________________________\n",
      "max_pooling2d_31 (MaxPooling (None, 45, 45, 32)        0         \n",
      "_________________________________________________________________\n",
      "conv2d_32 (Conv2D)           (None, 45, 45, 64)        18496     \n",
      "_________________________________________________________________\n",
      "max_pooling2d_32 (MaxPooling (None, 22, 22, 64)        0         \n",
      "_________________________________________________________________\n",
      "dropout_10 (Dropout)         (None, 22, 22, 64)        0         \n",
      "_________________________________________________________________\n",
      "flatten_10 (Flatten)         (None, 30976)             0         \n",
      "_________________________________________________________________\n",
      "dense_20 (Dense)             (None, 128)               3965056   \n",
      "_________________________________________________________________\n",
      "dense_21 (Dense)             (None, 4)                 516       \n",
      "=================================================================\n",
      "Total params: 3,989,156\n",
      "Trainable params: 3,989,156\n",
      "Non-trainable params: 0\n",
      "_________________________________________________________________\n"
     ]
    }
   ],
   "metadata": {}
  },
  {
   "cell_type": "code",
   "execution_count": 623,
   "source": [
    "#retraining\r\n",
    "epochs = 15\r\n",
    "history = model.fit(\r\n",
    "  train_ds,\r\n",
    "  validation_data=val_ds,\r\n",
    "  epochs=epochs\r\n",
    ")"
   ],
   "outputs": [
    {
     "output_type": "stream",
     "name": "stdout",
     "text": [
      "Epoch 1/15\n",
      "44/44 [==============================] - 29s 663ms/step - loss: 0.8570 - accuracy: 0.6619 - val_loss: 0.8937 - val_accuracy: 0.6648\n",
      "Epoch 2/15\n",
      "44/44 [==============================] - 26s 584ms/step - loss: 0.8299 - accuracy: 0.6576 - val_loss: 0.9623 - val_accuracy: 0.6476\n",
      "Epoch 3/15\n",
      "44/44 [==============================] - 26s 595ms/step - loss: 0.8212 - accuracy: 0.6683 - val_loss: 0.9180 - val_accuracy: 0.6476\n",
      "Epoch 4/15\n",
      "44/44 [==============================] - 26s 601ms/step - loss: 0.7854 - accuracy: 0.6777 - val_loss: 0.9321 - val_accuracy: 0.6361\n",
      "Epoch 5/15\n",
      "44/44 [==============================] - 26s 601ms/step - loss: 0.7678 - accuracy: 0.6827 - val_loss: 0.9132 - val_accuracy: 0.6504\n",
      "Epoch 6/15\n",
      "44/44 [==============================] - 26s 596ms/step - loss: 0.7744 - accuracy: 0.6791 - val_loss: 0.8928 - val_accuracy: 0.6418\n",
      "Epoch 7/15\n",
      "44/44 [==============================] - 36s 822ms/step - loss: 0.7581 - accuracy: 0.6928 - val_loss: 0.8865 - val_accuracy: 0.6705\n",
      "Epoch 8/15\n",
      "44/44 [==============================] - 34s 775ms/step - loss: 0.7072 - accuracy: 0.7230 - val_loss: 0.8756 - val_accuracy: 0.6619\n",
      "Epoch 9/15\n",
      "44/44 [==============================] - 36s 825ms/step - loss: 0.7034 - accuracy: 0.7173 - val_loss: 0.9497 - val_accuracy: 0.6533\n",
      "Epoch 10/15\n",
      "44/44 [==============================] - 36s 829ms/step - loss: 0.6876 - accuracy: 0.7194 - val_loss: 0.8944 - val_accuracy: 0.6705\n",
      "Epoch 11/15\n",
      "44/44 [==============================] - 36s 829ms/step - loss: 0.6527 - accuracy: 0.7302 - val_loss: 0.9064 - val_accuracy: 0.6533\n",
      "Epoch 12/15\n",
      "44/44 [==============================] - 36s 812ms/step - loss: 0.6397 - accuracy: 0.7590 - val_loss: 0.8773 - val_accuracy: 0.6676\n",
      "Epoch 13/15\n",
      "44/44 [==============================] - 36s 810ms/step - loss: 0.6603 - accuracy: 0.7482 - val_loss: 0.8992 - val_accuracy: 0.6619\n",
      "Epoch 14/15\n",
      "44/44 [==============================] - 35s 790ms/step - loss: 0.6195 - accuracy: 0.7504 - val_loss: 0.9259 - val_accuracy: 0.6705\n",
      "Epoch 15/15\n",
      "44/44 [==============================] - 36s 822ms/step - loss: 0.5920 - accuracy: 0.7741 - val_loss: 0.9607 - val_accuracy: 0.6504\n"
     ]
    }
   ],
   "metadata": {}
  },
  {
   "cell_type": "code",
   "execution_count": 624,
   "source": [
    "#visualisation\r\n",
    "acc = history.history['accuracy']\r\n",
    "val_acc = history.history['val_accuracy']\r\n",
    "\r\n",
    "loss = history.history['loss']\r\n",
    "val_loss = history.history['val_loss']\r\n",
    "\r\n",
    "epochs_range = range(epochs)\r\n",
    "\r\n",
    "plt.figure(figsize=(8, 8))\r\n",
    "plt.subplot(1, 2, 1)\r\n",
    "plt.plot(epochs_range, acc, label='Training Accuracy')\r\n",
    "plt.plot(epochs_range, val_acc, label='Validation Accuracy')\r\n",
    "plt.legend(loc='lower right')\r\n",
    "plt.title('Training and Validation Accuracy')\r\n",
    "\r\n",
    "plt.subplot(1, 2, 2)\r\n",
    "plt.plot(epochs_range, loss, label='Training Loss')\r\n",
    "plt.plot(epochs_range, val_loss, label='Validation Loss')\r\n",
    "plt.legend(loc='upper right')\r\n",
    "plt.title('Training and Validation Loss')\r\n",
    "plt.show()"
   ],
   "outputs": [
    {
     "output_type": "display_data",
     "data": {
      "image/png": "[encoded data removed]",
      "text/plain": [
       "<Figure size 576x576 with 2 Axes>"
      ]
     },
     "metadata": {
      "needs_background": "light"
     }
    }
   ],
   "metadata": {}
  },
  {
   "cell_type": "code",
   "execution_count": null,
   "source": [
    "img_test = \"pewdiepie.jpg\"\r\n",
    "img = keras.preprocessing.image.load_img(\r\n",
    "    img_test, target_size=(img_height, img_width)   \r\n",
    ")\r\n",
    "\r\n",
    "img_array = keras.preprocessing.image.img_to_array(img)\r\n",
    "img_array = tf.expand_dims(img_array, 0) # Create a batch\r\n",
    "\r\n",
    "predictions = model.predict(img_array)\r\n",
    "score = tf.nn.softmax(predictions[0])\r\n",
    "\r\n",
    "print(\r\n",
    "    \"This image most likely belongs to {} with a {:.2f} percent confidence.\"\r\n",
    "    .format(class_names[np.argmax(score)], 100 * np.max(score))\r\n",
    ")"
   ],
   "outputs": [
    {
     "output_type": "stream",
     "name": "stdout",
     "text": [
      "This image most likely belongs to pewdiepie with a 91.98 percent confidence.\n"
     ]
    }
   ],
   "metadata": {}
  },
  {
   "cell_type": "code",
   "execution_count": 627,
   "source": [
    "#streamlining above\r\n",
    "to_classify = [\"shoe.jpg\", \"hat.jpg\", \"pants_2.jpg\", \"shirt_2.jpg\"]\r\n",
    "\r\n",
    "for i in to_classify:\r\n",
    "    img_test = i\r\n",
    "    img = keras.preprocessing.image.load_img(\r\n",
    "        img_test, target_size=(img_height, img_width)\r\n",
    "    )\r\n",
    "\r\n",
    "    img_array = keras.preprocessing.image.img_to_array(img)\r\n",
    "    img_array = tf.expand_dims(img_array, 0)\r\n",
    "\r\n",
    "    predictions = model.predict(img_array)\r\n",
    "    score = tf.nn.softmax(predictions[0])\r\n",
    "\r\n",
    "    print(\r\n",
    "        \"This image most likely belongs to {} with a {:.2f} percent confidence.\"\r\n",
    "        .format(class_names[np.argmax(score)], 100*np.max(score))\r\n",
    "    )\r\n"
   ],
   "outputs": [
    {
     "output_type": "stream",
     "name": "stdout",
     "text": [
      "This image most likely belongs to shoes jpg with a 73.22 percent confidence.\n",
      "This image most likely belongs to hat jpg with a 56.99 percent confidence.\n",
      "This image most likely belongs to pants jpg with a 99.14 percent confidence.\n",
      "This image most likely belongs to hat jpg with a 58.25 percent confidence.\n"
     ]
    }
   ],
   "metadata": {}
  }
 ],
 "metadata": {
  "orig_nbformat": 4,
  "language_info": {
   "name": "python",
   "version": "3.9.7",
   "mimetype": "text/x-python",
   "codemirror_mode": {
    "name": "ipython",
    "version": 3
   },
   "pygments_lexer": "ipython3",
   "nbconvert_exporter": "python",
   "file_extension": ".py"
  },
  "kernelspec": {
   "name": "python3",
   "display_name": "Python 3.9.7 64-bit (windows store)"
  },
  "interpreter": {
   "hash": "268ef592ca12fc1c2bffff621c6f69b2d3cbaf29b6122947478221211c9fca52"
  }
 },
 "nbformat": 4,
 "nbformat_minor": 2
}