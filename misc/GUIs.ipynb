{
 "cells": [
  {
   "cell_type": "code",
   "execution_count": 1,
   "source": [
    "#import calendar module\r\n",
    "import calendar\r\n",
    "#import tkinter module\r\n",
    "import tkinter as tk"
   ],
   "outputs": [],
   "metadata": {}
  },
  {
   "cell_type": "code",
   "execution_count": 2,
   "source": [
    "#This function displays calendar for a given year\r\n",
    "def showCalender():\r\n",
    "    gui = Tk()\r\n",
    "    gui.config(background='grey')\r\n",
    "    gui.title(\"Calender for the year\")\r\n",
    "    gui.geometry(\"550x600\")\r\n",
    "    year = int(year_field.get())\r\n",
    "    gui_content= calendar.calendar(year)\r\n",
    "    calYear = Label(gui, text= gui_content, font= \"Consolas 10 bold\")\r\n",
    "    calYear.grid(row=5, column=1,padx=20)\r\n",
    "    gui.mainloop()"
   ],
   "outputs": [],
   "metadata": {}
  },
  {
   "cell_type": "code",
   "execution_count": 4,
   "source": [
    "class Application(tk.Frame):\r\n",
    "    def __init__(self, master=None):\r\n",
    "        super().__init__(master)\r\n",
    "        self.master = master\r\n",
    "        self.pack()\r\n",
    "        self.create_widgets()\r\n",
    "\r\n",
    "    def create_widgets(self):\r\n",
    "        self.hi_there = tk.Button(self)\r\n",
    "        self.hi_there[\"text\"] = \"Hello World\\n(click me)\"\r\n",
    "        self.hi_there[\"command\"] = self.say_hi\r\n",
    "        self.hi_there.pack(side=\"top\")\r\n",
    "\r\n",
    "        self.quit = tk.Button(self, text=\"QUIT\", fg=\"red\",\r\n",
    "                              command=self.master.destroy)\r\n",
    "        self.quit.pack(side=\"bottom\")\r\n",
    "\r\n",
    "    def say_hi(self):\r\n",
    "        print(\"hi there, everyone!\")\r\n",
    "\r\n",
    "root = tk.Tk()\r\n",
    "app = Application(master=root)\r\n",
    "app.mainloop()"
   ],
   "outputs": [
    {
     "output_type": "stream",
     "name": "stdout",
     "text": [
      "hi there, everyone!\n",
      "hi there, everyone!\n",
      "hi there, everyone!\n",
      "hi there, everyone!\n"
     ]
    }
   ],
   "metadata": {}
  },
  {
   "cell_type": "code",
   "execution_count": 5,
   "source": [
    "class App(tk.Frame):\r\n",
    "    def __init__(self, master):\r\n",
    "        super().__init__(master)\r\n",
    "        self.pack()\r\n",
    "\r\n",
    "        self.entrythingy = tk.Entry()\r\n",
    "        self.entrythingy.pack()\r\n",
    "\r\n",
    "        # Create the application variable.\r\n",
    "        self.contents = tk.StringVar()\r\n",
    "        # Set it to some value.\r\n",
    "        self.contents.set(\"this is a variable\")\r\n",
    "        # Tell the entry widget to watch this variable.\r\n",
    "        self.entrythingy[\"textvariable\"] = self.contents\r\n",
    "\r\n",
    "        # Define a callback for when the user hits return.\r\n",
    "        # It prints the current value of the variable.\r\n",
    "        self.entrythingy.bind('<Key-Return>',\r\n",
    "                             self.print_contents)\r\n",
    "\r\n",
    "    def print_contents(self, event):\r\n",
    "        print(\"Hi. The current entry content is:\",\r\n",
    "              self.contents.get())\r\n",
    "\r\n",
    "root = tk.Tk()\r\n",
    "myapp = App(root)\r\n",
    "myapp.mainloop()"
   ],
   "outputs": [],
   "metadata": {}
  },
  {
   "cell_type": "code",
   "execution_count": 8,
   "source": [
    "class App(tk.Frame):\r\n",
    "    def __init__(self, master=None):\r\n",
    "        super().__init__(master)\r\n",
    "        self.pack()\r\n",
    "\r\n",
    "# create the application\r\n",
    "myapp = App()\r\n",
    "\r\n",
    "#\r\n",
    "# here are method calls to the window manager class\r\n",
    "#\r\n",
    "myapp.master.title(\"My Do-Nothing Application\")\r\n",
    "myapp.master.maxsize(1280, 720)\r\n",
    "\r\n",
    "# start the program\r\n",
    "myapp.mainloop()"
   ],
   "outputs": [],
   "metadata": {}
  }
 ],
 "metadata": {
  "orig_nbformat": 4,
  "language_info": {
   "name": "python",
   "version": "3.9.4",
   "mimetype": "text/x-python",
   "codemirror_mode": {
    "name": "ipython",
    "version": 3
   },
   "pygments_lexer": "ipython3",
   "nbconvert_exporter": "python",
   "file_extension": ".py"
  },
  "kernelspec": {
   "name": "python3",
   "display_name": "Python 3.9.4 64-bit"
  },
  "interpreter": {
   "hash": "167380c844cb8dab65f7a2242fcdd292fd16a45a4bab8a9de8ac74aeee39fadd"
  }
 },
 "nbformat": 4,
 "nbformat_minor": 2
}