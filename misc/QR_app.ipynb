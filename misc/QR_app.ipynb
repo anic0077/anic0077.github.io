{
 "cells": [
  {
   "cell_type": "code",
   "execution_count": 3,
   "source": [
    "import qrcode\r\n",
    "\r\n",
    "img = qrcode.make(\"https://www.youtube.com/\")\r\n",
    "img.save(\"youtubeQR.jpg\")\r\n",
    "img"
   ],
   "outputs": [
    {
     "output_type": "execute_result",
     "data": {
      "image/png": "[encoded data removed]",
      "text/plain": [
       "<qrcode.image.pil.PilImage at 0x1d993182130>"
      ]
     },
     "metadata": {},
     "execution_count": 3
    }
   ],
   "metadata": {}
  },
  {
   "cell_type": "code",
   "execution_count": 5,
   "source": [
    "import cv2\r\n",
    "d = cv2.QRCodeDetector()\r\n",
    "val, _, _ = d.detectAndDecode(cv2.imread(\"youtubeQR.jpg\"))\r\n",
    "print(\"Decoded text is: \", val)"
   ],
   "outputs": [
    {
     "output_type": "stream",
     "name": "stdout",
     "text": [
      "Decoded text is:  https://www.youtube.com/\n"
     ]
    }
   ],
   "metadata": {}
  }
 ],
 "metadata": {
  "orig_nbformat": 4,
  "language_info": {
   "name": "python",
   "version": "3.9.7",
   "mimetype": "text/x-python",
   "codemirror_mode": {
    "name": "ipython",
    "version": 3
   },
   "pygments_lexer": "ipython3",
   "nbconvert_exporter": "python",
   "file_extension": ".py"
  },
  "kernelspec": {
   "name": "python3",
   "display_name": "Python 3.9.7 64-bit (windows store)"
  },
  "interpreter": {
   "hash": "268ef592ca12fc1c2bffff621c6f69b2d3cbaf29b6122947478221211c9fca52"
  }
 },
 "nbformat": 4,
 "nbformat_minor": 2
}